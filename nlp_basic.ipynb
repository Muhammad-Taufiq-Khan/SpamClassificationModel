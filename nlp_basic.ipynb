{
 "cells": [
  {
   "cell_type": "code",
   "execution_count": 36,
   "id": "chubby-williams",
   "metadata": {},
   "outputs": [],
   "source": [
    "text = ''' we have visited many historical places. he told that sylhet is one of the best places. we know Gazipur is the worst place for visiting!. '''"
   ]
  },
  {
   "cell_type": "code",
   "execution_count": 37,
   "id": "angry-treasury",
   "metadata": {},
   "outputs": [
    {
     "data": {
      "text/plain": [
       "['we',\n",
       " 'have',\n",
       " 'visited',\n",
       " 'many',\n",
       " 'historical',\n",
       " 'places',\n",
       " '.',\n",
       " 'he',\n",
       " 'told',\n",
       " 'that',\n",
       " 'sylhet',\n",
       " 'is',\n",
       " 'one',\n",
       " 'of',\n",
       " 'the',\n",
       " 'best',\n",
       " 'places',\n",
       " '.',\n",
       " 'we',\n",
       " 'know',\n",
       " 'Gazipur',\n",
       " 'is',\n",
       " 'the',\n",
       " 'worst',\n",
       " 'place',\n",
       " 'for',\n",
       " 'visiting',\n",
       " '!',\n",
       " '.']"
      ]
     },
     "execution_count": 37,
     "metadata": {},
     "output_type": "execute_result"
    }
   ],
   "source": [
    "#tokenization\n",
    "from nltk.tokenize import word_tokenize\n",
    "tokenized_word = word_tokenize(text)\n",
    "tokenized_word\n"
   ]
  },
  {
   "cell_type": "code",
   "execution_count": 38,
   "id": "stylish-rider",
   "metadata": {},
   "outputs": [
    {
     "data": {
      "text/plain": [
       "['visited',\n",
       " 'many',\n",
       " 'historical',\n",
       " 'places',\n",
       " '.',\n",
       " 'told',\n",
       " 'sylhet',\n",
       " 'one',\n",
       " 'best',\n",
       " 'places',\n",
       " '.',\n",
       " 'know',\n",
       " 'Gazipur',\n",
       " 'worst',\n",
       " 'place',\n",
       " 'visiting',\n",
       " '!',\n",
       " '.']"
      ]
     },
     "execution_count": 38,
     "metadata": {},
     "output_type": "execute_result"
    }
   ],
   "source": [
    "#stopword removing\n",
    "from nltk.corpus import stopwords\n",
    "text_without_stopword = [word for word in tokenized_word if word not in stopwords.words('english')]\n",
    "text_without_stopword"
   ]
  },
  {
   "cell_type": "code",
   "execution_count": 39,
   "id": "compressed-eleven",
   "metadata": {},
   "outputs": [
    {
     "data": {
      "text/plain": [
       "['visit',\n",
       " 'mani',\n",
       " 'histor',\n",
       " 'place',\n",
       " '.',\n",
       " 'told',\n",
       " 'sylhet',\n",
       " 'one',\n",
       " 'best',\n",
       " 'place',\n",
       " '.',\n",
       " 'know',\n",
       " 'gazipur',\n",
       " 'worst',\n",
       " 'place',\n",
       " 'visit',\n",
       " '!',\n",
       " '.']"
      ]
     },
     "execution_count": 39,
     "metadata": {},
     "output_type": "execute_result"
    }
   ],
   "source": [
    "#stemming\n",
    "from nltk.stem import PorterStemmer\n",
    "ps = PorterStemmer()\n",
    "stemmed_text = [ps.stem(word) for word in text_without_stopword]\n",
    "stemmed_text"
   ]
  },
  {
   "cell_type": "code",
   "execution_count": 40,
   "id": "radical-difficulty",
   "metadata": {},
   "outputs": [
    {
     "data": {
      "text/plain": [
       "['visited',\n",
       " 'many',\n",
       " 'historical',\n",
       " 'place',\n",
       " '.',\n",
       " 'told',\n",
       " 'sylhet',\n",
       " 'one',\n",
       " 'best',\n",
       " 'place',\n",
       " '.',\n",
       " 'know',\n",
       " 'Gazipur',\n",
       " 'worst',\n",
       " 'place',\n",
       " 'visiting',\n",
       " '!',\n",
       " '.']"
      ]
     },
     "execution_count": 40,
     "metadata": {},
     "output_type": "execute_result"
    }
   ],
   "source": [
    "#Lemmatizing\n",
    "from nltk.stem import WordNetLemmatizer\n",
    "wnl = WordNetLemmatizer()\n",
    "Lemmatized_text = [wnl.lemmatize(word) for word in text_without_stopword]\n",
    "Lemmatized_text"
   ]
  },
  {
   "cell_type": "code",
   "execution_count": 41,
   "id": "personalized-optics",
   "metadata": {},
   "outputs": [
    {
     "name": "stdout",
     "output_type": "stream",
     "text": [
      "['glad', 'happy', 'felicitous', 'well-chosen']\n",
      "{'unhappy'}\n"
     ]
    }
   ],
   "source": [
    "#wordnet\n",
    "from nltk.corpus import wordnet\n",
    "Synonyms  = []\n",
    "Antonyms = []\n",
    "\n",
    "for syn in wordnet.synsets('happy'):\n",
    "    for i in syn.lemmas():\n",
    "        Synonyms.append(i.name())\n",
    "        if i.antonyms():\n",
    "            Antonyms.append(i.name())\n",
    "print(list(set(Synonyms)))\n",
    "print(set(Antonyms))"
   ]
  },
  {
   "cell_type": "code",
   "execution_count": 43,
   "id": "numeric-bolivia",
   "metadata": {},
   "outputs": [
    {
     "data": {
      "text/plain": [
       "[('visited', 'VBD'),\n",
       " ('many', 'JJ'),\n",
       " ('historical', 'JJ'),\n",
       " ('place', 'NN'),\n",
       " ('.', '.'),\n",
       " ('told', 'VBD'),\n",
       " ('sylhet', 'JJ'),\n",
       " ('one', 'CD'),\n",
       " ('best', 'JJS'),\n",
       " ('place', 'NN'),\n",
       " ('.', '.'),\n",
       " ('know', 'VB'),\n",
       " ('Gazipur', 'NNP'),\n",
       " ('worst', 'JJS'),\n",
       " ('place', 'NN'),\n",
       " ('visiting', 'VBG'),\n",
       " ('!', '.'),\n",
       " ('.', '.')]"
      ]
     },
     "execution_count": 43,
     "metadata": {},
     "output_type": "execute_result"
    }
   ],
   "source": [
    "#Part of speech taggning (word,tag)\n",
    "from nltk import pos_tag\n",
    "text_with_POS = (pos_tag(Lemmatized_text))\n",
    "text_with_POS\n"
   ]
  },
  {
   "cell_type": "code",
   "execution_count": 90,
   "id": "international-vermont",
   "metadata": {},
   "outputs": [
    {
     "data": {
      "text/html": [
       "<div>\n",
       "<style scoped>\n",
       "    .dataframe tbody tr th:only-of-type {\n",
       "        vertical-align: middle;\n",
       "    }\n",
       "\n",
       "    .dataframe tbody tr th {\n",
       "        vertical-align: top;\n",
       "    }\n",
       "\n",
       "    .dataframe thead th {\n",
       "        text-align: right;\n",
       "    }\n",
       "</style>\n",
       "<table border=\"1\" class=\"dataframe\">\n",
       "  <thead>\n",
       "    <tr style=\"text-align: right;\">\n",
       "      <th></th>\n",
       "      <th>sentence</th>\n",
       "    </tr>\n",
       "  </thead>\n",
       "  <tbody>\n",
       "    <tr>\n",
       "      <th>0</th>\n",
       "      <td>we have visited many historical places.</td>\n",
       "    </tr>\n",
       "    <tr>\n",
       "      <th>1</th>\n",
       "      <td>he told that sylhet is one of the best places.</td>\n",
       "    </tr>\n",
       "    <tr>\n",
       "      <th>2</th>\n",
       "      <td>we know Gazipur is the worst place for visiting!.</td>\n",
       "    </tr>\n",
       "  </tbody>\n",
       "</table>\n",
       "</div>"
      ],
      "text/plain": [
       "                                            sentence\n",
       "0            we have visited many historical places.\n",
       "1     he told that sylhet is one of the best places.\n",
       "2  we know Gazipur is the worst place for visiting!."
      ]
     },
     "execution_count": 90,
     "metadata": {},
     "output_type": "execute_result"
    }
   ],
   "source": [
    "#Vectorization\n",
    "from nltk.tokenize import sent_tokenize\n",
    "sent = pd.DataFrame(sent_tokenize(text),columns=['sentence'])\n",
    "sent\n"
   ]
  },
  {
   "cell_type": "code",
   "execution_count": 94,
   "id": "cardiovascular-compound",
   "metadata": {},
   "outputs": [
    {
     "data": {
      "text/plain": [
       "['visited many historical place .',\n",
       " 'told sylhet one best place .',\n",
       " 'know Gazipur worst place visiting ! .']"
      ]
     },
     "execution_count": 94,
     "metadata": {},
     "output_type": "execute_result"
    }
   ],
   "source": [
    "All_Cleaned_Sentence = []\n",
    "for i in range(len(sent)):\n",
    "    ith_sentence = sent['sentence'][i]\n",
    "    words = word_tokenize(ith_sentence)\n",
    "    lemmatized_words = [wnl.lemmatize(word) for word in words if word not in set(stopwords.words('english'))]\n",
    "    lemmatized_sentence = ' '.join(lemmatized_words)\n",
    "    All_Cleaned_Sentence.append(lemmatized_sentence)\n",
    "All_Cleaned_Sentence"
   ]
  },
  {
   "cell_type": "code",
   "execution_count": 97,
   "id": "superb-repository",
   "metadata": {},
   "outputs": [
    {
     "data": {
      "text/plain": [
       "array([[0, 0, 1, 0, 1, 0, 1, 0, 0, 1, 0, 0],\n",
       "       [1, 0, 0, 0, 0, 1, 1, 1, 1, 0, 0, 0],\n",
       "       [0, 1, 0, 1, 0, 0, 1, 0, 0, 0, 1, 1]])"
      ]
     },
     "execution_count": 97,
     "metadata": {},
     "output_type": "execute_result"
    }
   ],
   "source": [
    "Vector_of_All_Cleaned_Sentence = cv.fit_transform(All_Cleaned_Sentence).toarray()\n",
    "Vector_of_All_Cleaned_Sentence"
   ]
  },
  {
   "cell_type": "raw",
   "id": "early-niagara",
   "metadata": {},
   "source": []
  }
 ],
 "metadata": {
  "kernelspec": {
   "display_name": "Python 3",
   "language": "python",
   "name": "python3"
  },
  "language_info": {
   "codemirror_mode": {
    "name": "ipython",
    "version": 3
   },
   "file_extension": ".py",
   "mimetype": "text/x-python",
   "name": "python",
   "nbconvert_exporter": "python",
   "pygments_lexer": "ipython3",
   "version": "3.8.5"
  }
 },
 "nbformat": 4,
 "nbformat_minor": 5
}